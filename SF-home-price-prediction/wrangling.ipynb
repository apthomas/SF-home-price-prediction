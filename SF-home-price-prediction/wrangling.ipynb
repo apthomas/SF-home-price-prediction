{
 "cells": [
  {
   "cell_type": "code",
   "execution_count": 54,
   "metadata": {},
   "outputs": [],
   "source": [
    "import pandas as pd\n",
    "import numpy as np\n",
    "df_1997= pd.read_csv('data/processed/1997.csv',encoding=\"ISO-8859-1\")\n"
   ]
  },
  {
   "cell_type": "code",
   "execution_count": 74,
   "metadata": {},
   "outputs": [],
   "source": [
    "# data processing to only view california real estate data\n",
    "df_sale_counts_by_zip = pd.read_csv('data/raw/Sale_Counts_Zip.csv', encoding=\"ISO-8859-1\")\n",
    "df_median_all_home_price_by_zip = pd.read_csv('data/raw/Zip_MedianListingPrice_AllHomes.csv',  encoding=\"ISO-8859-1\")\n",
    "df_all_home_by_zip = pd.read_csv('data/raw/Zip_Zhvi_AllHomes.csv',  encoding=\"ISO-8859-1\")\n",
    "df_single_family_residence_by_zip = pd.read_csv('data/raw/Zip_Zhvi_SingleFamilyResidence.csv',  encoding=\"ISO-8859-1\")\n",
    "\n",
    "df_sale_counts_by_zip_california = df_sale_counts_by_zip.loc[df_sale_counts_by_zip['StateName']=='California']\n",
    "df_all_home_by_zip_california = df_all_home_by_zip.loc[df_all_home_by_zip['State']=='CA']\n",
    "df_single_family_residence_by_zip_california = df_single_family_residence_by_zip.loc[df_single_family_residence_by_zip['State']=='CA']\n",
    "df_median_all_home_price_by_zip_california = df_median_all_home_price_by_zip[df_median_all_home_price_by_zip['State']=='CA']\n"
   ]
  },
  {
   "cell_type": "code",
   "execution_count": 75,
   "metadata": {
    "scrolled": false
   },
   "outputs": [],
   "source": [
    "# data processing to load all IPO Data between 1997 and present data. This data has been scraped using code from src/web_scrapers.py\n",
    "df_full_ipo_date_97_to_19 = pd.read_csv('data/processed/1997-04_2019_full_ipo_data.csv',encoding=\"ISO-8859-1\")\n",
    "\n"
   ]
  },
  {
   "cell_type": "code",
   "execution_count": 86,
   "metadata": {},
   "outputs": [
    {
     "name": "stderr",
     "output_type": "stream",
     "text": [
      "/Users/aaron/miniconda3/lib/python3.7/site-packages/ipykernel_launcher.py:2: SettingWithCopyWarning: \n",
      "A value is trying to be set on a copy of a slice from a DataFrame.\n",
      "Try using .loc[row_indexer,col_indexer] = value instead\n",
      "\n",
      "See the caveats in the documentation: http://pandas.pydata.org/pandas-docs/stable/indexing.html#indexing-view-versus-copy\n",
      "  \n",
      "/Users/aaron/miniconda3/lib/python3.7/site-packages/ipykernel_launcher.py:3: SettingWithCopyWarning: \n",
      "A value is trying to be set on a copy of a slice from a DataFrame.\n",
      "Try using .loc[row_indexer,col_indexer] = value instead\n",
      "\n",
      "See the caveats in the documentation: http://pandas.pydata.org/pandas-docs/stable/indexing.html#indexing-view-versus-copy\n",
      "  This is separate from the ipykernel package so we can avoid doing imports until\n"
     ]
    }
   ],
   "source": [
    "# type wrangling of all pandas series in each dataframe\n",
    "df_sale_counts_by_zip_california[\"RegionID\"] = df_sale_counts_by_zip_california[\"RegionID\"].astype(dtype=np.int64)\n",
    "df_sale_counts_by_zip_california['StateName'] = df_sale_counts_by_zip_california['StateName'].astype('str')\n",
    "\n",
    "df_full_ipo_date_97_to_19['Date Filed'] =  pd.to_datetime(df_full_ipo_date_97_to_19['Date Filed'], errors='coerce', format='%d/%m/%Y')\n",
    "df_full_ipo_date_97_to_19['Lockup Expiration Date'] =  pd.to_datetime(df_full_ipo_date_97_to_19['Lockup Expiration Date'], errors='coerce', format='%d/%m/%Y')\n"
   ]
  },
  {
   "cell_type": "code",
   "execution_count": 87,
   "metadata": {},
   "outputs": [
    {
     "data": {
      "text/html": [
       "<div>\n",
       "<style scoped>\n",
       "    .dataframe tbody tr th:only-of-type {\n",
       "        vertical-align: middle;\n",
       "    }\n",
       "\n",
       "    .dataframe tbody tr th {\n",
       "        vertical-align: top;\n",
       "    }\n",
       "\n",
       "    .dataframe thead th {\n",
       "        text-align: right;\n",
       "    }\n",
       "</style>\n",
       "<table border=\"1\" class=\"dataframe\">\n",
       "  <thead>\n",
       "    <tr style=\"text-align: right;\">\n",
       "      <th></th>\n",
       "      <th>Company Name</th>\n",
       "      <th>Symbol</th>\n",
       "      <th>Offer Amount</th>\n",
       "      <th>Date Filed</th>\n",
       "      <th>Zipcode</th>\n",
       "      <th>Number of Employees</th>\n",
       "      <th>Lockup Period</th>\n",
       "      <th>Lockup Expiration Date</th>\n",
       "      <th>CIK</th>\n",
       "    </tr>\n",
       "  </thead>\n",
       "  <tbody>\n",
       "    <tr>\n",
       "      <th>0</th>\n",
       "      <td>RENAISSANCE LEARNING INC</td>\n",
       "      <td>ALSI</td>\n",
       "      <td>44800000.0</td>\n",
       "      <td>1997-02-28</td>\n",
       "      <td>54495-8036</td>\n",
       "      <td>274</td>\n",
       "      <td>180</td>\n",
       "      <td>NaT</td>\n",
       "      <td>1030484</td>\n",
       "    </tr>\n",
       "    <tr>\n",
       "      <th>1</th>\n",
       "      <td>SIERRACITIES COM INC</td>\n",
       "      <td>FSFH</td>\n",
       "      <td>16000000.0</td>\n",
       "      <td>1997-02-28</td>\n",
       "      <td>77002</td>\n",
       "      <td>75</td>\n",
       "      <td>180</td>\n",
       "      <td>1997-11-11</td>\n",
       "      <td>1034812</td>\n",
       "    </tr>\n",
       "    <tr>\n",
       "      <th>2</th>\n",
       "      <td>HERTZ CORP</td>\n",
       "      <td>HRZ</td>\n",
       "      <td>480240000.0</td>\n",
       "      <td>1997-02-28</td>\n",
       "      <td>33928</td>\n",
       "      <td>21000</td>\n",
       "      <td>180</td>\n",
       "      <td>NaT</td>\n",
       "      <td>47129</td>\n",
       "    </tr>\n",
       "    <tr>\n",
       "      <th>3</th>\n",
       "      <td>RF MICRO DEVICES INC</td>\n",
       "      <td>RFMD</td>\n",
       "      <td>36444000.0</td>\n",
       "      <td>1997-02-28</td>\n",
       "      <td>27409-9421</td>\n",
       "      <td>131</td>\n",
       "      <td>180</td>\n",
       "      <td>1997-01-12</td>\n",
       "      <td>911160</td>\n",
       "    </tr>\n",
       "    <tr>\n",
       "      <th>4</th>\n",
       "      <td>GUIDED THERAPEUTICS INC</td>\n",
       "      <td>SPRX</td>\n",
       "      <td>15411893.0</td>\n",
       "      <td>1997-02-27</td>\n",
       "      <td>30092</td>\n",
       "      <td>56</td>\n",
       "      <td>180</td>\n",
       "      <td>NaT</td>\n",
       "      <td>924515</td>\n",
       "    </tr>\n",
       "  </tbody>\n",
       "</table>\n",
       "</div>"
      ],
      "text/plain": [
       "               Company Name Symbol  Offer Amount Date Filed     Zipcode  \\\n",
       "0  RENAISSANCE LEARNING INC   ALSI    44800000.0 1997-02-28  54495-8036   \n",
       "1      SIERRACITIES COM INC   FSFH    16000000.0 1997-02-28       77002   \n",
       "2                HERTZ CORP    HRZ   480240000.0 1997-02-28       33928   \n",
       "3      RF MICRO DEVICES INC   RFMD    36444000.0 1997-02-28  27409-9421   \n",
       "4   GUIDED THERAPEUTICS INC   SPRX    15411893.0 1997-02-27       30092   \n",
       "\n",
       "  Number of Employees Lockup Period Lockup Expiration Date      CIK  \n",
       "0                 274           180                    NaT  1030484  \n",
       "1                  75           180             1997-11-11  1034812  \n",
       "2               21000           180                    NaT    47129  \n",
       "3                 131           180             1997-01-12   911160  \n",
       "4                  56           180                    NaT   924515  "
      ]
     },
     "execution_count": 87,
     "metadata": {},
     "output_type": "execute_result"
    }
   ],
   "source": [
    "df_full_ipo_date_97_to_19.head()"
   ]
  },
  {
   "cell_type": "code",
   "execution_count": 84,
   "metadata": {},
   "outputs": [
    {
     "data": {
      "text/plain": [
       "Company Name                      object\n",
       "Symbol                            object\n",
       "Offer Amount                     float64\n",
       "Date Filed                datetime64[ns]\n",
       "Zipcode                           object\n",
       "Number of Employees               object\n",
       "Lockup Period                     object\n",
       "Lockup Expiration Date            object\n",
       "CIK                                int64\n",
       "dtype: object"
      ]
     },
     "execution_count": 84,
     "metadata": {},
     "output_type": "execute_result"
    }
   ],
   "source": [
    "df_full_ipo_date_97_to_19.dtypes"
   ]
  },
  {
   "cell_type": "code",
   "execution_count": null,
   "metadata": {},
   "outputs": [],
   "source": []
  }
 ],
 "metadata": {
  "kernelspec": {
   "display_name": "Python 3",
   "language": "python",
   "name": "python3"
  },
  "language_info": {
   "codemirror_mode": {
    "name": "ipython",
    "version": 3
   },
   "file_extension": ".py",
   "mimetype": "text/x-python",
   "name": "python",
   "nbconvert_exporter": "python",
   "pygments_lexer": "ipython3",
   "version": "3.7.3"
  }
 },
 "nbformat": 4,
 "nbformat_minor": 2
}
